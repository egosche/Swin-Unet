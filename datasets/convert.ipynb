{
 "cells": [
  {
   "cell_type": "code",
   "execution_count": 1,
   "metadata": {},
   "outputs": [],
   "source": [
    "import h5py\n",
    "import numpy as np\n",
    "import nibabel as nib\n",
    "import matplotlib.pyplot as plt\n",
    "from pathlib import Path"
   ]
  },
  {
   "cell_type": "code",
   "execution_count": 2,
   "metadata": {},
   "outputs": [
    {
     "name": "stdout",
     "output_type": "stream",
     "text": [
      "[PosixPath('OASIS_preprocessed/train/input_0.nii.gz'), PosixPath('OASIS_preprocessed/train/input_1.nii.gz'), PosixPath('OASIS_preprocessed/train/input_10.nii.gz'), PosixPath('OASIS_preprocessed/train/input_100.nii.gz'), PosixPath('OASIS_preprocessed/train/input_101.nii.gz'), PosixPath('OASIS_preprocessed/train/input_102.nii.gz'), PosixPath('OASIS_preprocessed/train/input_103.nii.gz'), PosixPath('OASIS_preprocessed/train/input_104.nii.gz'), PosixPath('OASIS_preprocessed/train/input_105.nii.gz'), PosixPath('OASIS_preprocessed/train/input_106.nii.gz'), PosixPath('OASIS_preprocessed/train/input_107.nii.gz'), PosixPath('OASIS_preprocessed/train/input_108.nii.gz'), PosixPath('OASIS_preprocessed/train/input_109.nii.gz'), PosixPath('OASIS_preprocessed/train/input_11.nii.gz'), PosixPath('OASIS_preprocessed/train/input_110.nii.gz'), PosixPath('OASIS_preprocessed/train/input_111.nii.gz'), PosixPath('OASIS_preprocessed/train/input_112.nii.gz'), PosixPath('OASIS_preprocessed/train/input_113.nii.gz'), PosixPath('OASIS_preprocessed/train/input_114.nii.gz'), PosixPath('OASIS_preprocessed/train/input_115.nii.gz'), PosixPath('OASIS_preprocessed/train/input_116.nii.gz'), PosixPath('OASIS_preprocessed/train/input_117.nii.gz'), PosixPath('OASIS_preprocessed/train/input_118.nii.gz'), PosixPath('OASIS_preprocessed/train/input_119.nii.gz'), PosixPath('OASIS_preprocessed/train/input_12.nii.gz'), PosixPath('OASIS_preprocessed/train/input_120.nii.gz'), PosixPath('OASIS_preprocessed/train/input_121.nii.gz'), PosixPath('OASIS_preprocessed/train/input_122.nii.gz'), PosixPath('OASIS_preprocessed/train/input_123.nii.gz'), PosixPath('OASIS_preprocessed/train/input_124.nii.gz'), PosixPath('OASIS_preprocessed/train/input_125.nii.gz'), PosixPath('OASIS_preprocessed/train/input_126.nii.gz'), PosixPath('OASIS_preprocessed/train/input_127.nii.gz'), PosixPath('OASIS_preprocessed/train/input_128.nii.gz'), PosixPath('OASIS_preprocessed/train/input_129.nii.gz'), PosixPath('OASIS_preprocessed/train/input_13.nii.gz'), PosixPath('OASIS_preprocessed/train/input_130.nii.gz'), PosixPath('OASIS_preprocessed/train/input_131.nii.gz'), PosixPath('OASIS_preprocessed/train/input_132.nii.gz'), PosixPath('OASIS_preprocessed/train/input_133.nii.gz'), PosixPath('OASIS_preprocessed/train/input_134.nii.gz'), PosixPath('OASIS_preprocessed/train/input_135.nii.gz'), PosixPath('OASIS_preprocessed/train/input_136.nii.gz'), PosixPath('OASIS_preprocessed/train/input_137.nii.gz'), PosixPath('OASIS_preprocessed/train/input_138.nii.gz'), PosixPath('OASIS_preprocessed/train/input_139.nii.gz'), PosixPath('OASIS_preprocessed/train/input_14.nii.gz'), PosixPath('OASIS_preprocessed/train/input_140.nii.gz'), PosixPath('OASIS_preprocessed/train/input_141.nii.gz'), PosixPath('OASIS_preprocessed/train/input_142.nii.gz'), PosixPath('OASIS_preprocessed/train/input_143.nii.gz'), PosixPath('OASIS_preprocessed/train/input_144.nii.gz'), PosixPath('OASIS_preprocessed/train/input_145.nii.gz'), PosixPath('OASIS_preprocessed/train/input_146.nii.gz'), PosixPath('OASIS_preprocessed/train/input_147.nii.gz'), PosixPath('OASIS_preprocessed/train/input_148.nii.gz'), PosixPath('OASIS_preprocessed/train/input_149.nii.gz'), PosixPath('OASIS_preprocessed/train/input_15.nii.gz'), PosixPath('OASIS_preprocessed/train/input_150.nii.gz'), PosixPath('OASIS_preprocessed/train/input_151.nii.gz'), PosixPath('OASIS_preprocessed/train/input_152.nii.gz'), PosixPath('OASIS_preprocessed/train/input_153.nii.gz'), PosixPath('OASIS_preprocessed/train/input_154.nii.gz'), PosixPath('OASIS_preprocessed/train/input_155.nii.gz'), PosixPath('OASIS_preprocessed/train/input_156.nii.gz'), PosixPath('OASIS_preprocessed/train/input_157.nii.gz'), PosixPath('OASIS_preprocessed/train/input_158.nii.gz'), PosixPath('OASIS_preprocessed/train/input_159.nii.gz'), PosixPath('OASIS_preprocessed/train/input_16.nii.gz'), PosixPath('OASIS_preprocessed/train/input_160.nii.gz'), PosixPath('OASIS_preprocessed/train/input_161.nii.gz'), PosixPath('OASIS_preprocessed/train/input_162.nii.gz'), PosixPath('OASIS_preprocessed/train/input_163.nii.gz'), PosixPath('OASIS_preprocessed/train/input_164.nii.gz'), PosixPath('OASIS_preprocessed/train/input_165.nii.gz'), PosixPath('OASIS_preprocessed/train/input_166.nii.gz'), PosixPath('OASIS_preprocessed/train/input_167.nii.gz'), PosixPath('OASIS_preprocessed/train/input_168.nii.gz'), PosixPath('OASIS_preprocessed/train/input_169.nii.gz'), PosixPath('OASIS_preprocessed/train/input_17.nii.gz'), PosixPath('OASIS_preprocessed/train/input_170.nii.gz'), PosixPath('OASIS_preprocessed/train/input_171.nii.gz'), PosixPath('OASIS_preprocessed/train/input_172.nii.gz'), PosixPath('OASIS_preprocessed/train/input_173.nii.gz'), PosixPath('OASIS_preprocessed/train/input_174.nii.gz'), PosixPath('OASIS_preprocessed/train/input_175.nii.gz'), PosixPath('OASIS_preprocessed/train/input_176.nii.gz'), PosixPath('OASIS_preprocessed/train/input_177.nii.gz'), PosixPath('OASIS_preprocessed/train/input_178.nii.gz'), PosixPath('OASIS_preprocessed/train/input_179.nii.gz'), PosixPath('OASIS_preprocessed/train/input_18.nii.gz'), PosixPath('OASIS_preprocessed/train/input_180.nii.gz'), PosixPath('OASIS_preprocessed/train/input_181.nii.gz'), PosixPath('OASIS_preprocessed/train/input_182.nii.gz'), PosixPath('OASIS_preprocessed/train/input_183.nii.gz'), PosixPath('OASIS_preprocessed/train/input_184.nii.gz'), PosixPath('OASIS_preprocessed/train/input_185.nii.gz'), PosixPath('OASIS_preprocessed/train/input_186.nii.gz'), PosixPath('OASIS_preprocessed/train/input_187.nii.gz'), PosixPath('OASIS_preprocessed/train/input_188.nii.gz'), PosixPath('OASIS_preprocessed/train/input_189.nii.gz'), PosixPath('OASIS_preprocessed/train/input_19.nii.gz'), PosixPath('OASIS_preprocessed/train/input_190.nii.gz'), PosixPath('OASIS_preprocessed/train/input_191.nii.gz'), PosixPath('OASIS_preprocessed/train/input_192.nii.gz'), PosixPath('OASIS_preprocessed/train/input_193.nii.gz'), PosixPath('OASIS_preprocessed/train/input_194.nii.gz'), PosixPath('OASIS_preprocessed/train/input_195.nii.gz'), PosixPath('OASIS_preprocessed/train/input_196.nii.gz'), PosixPath('OASIS_preprocessed/train/input_197.nii.gz'), PosixPath('OASIS_preprocessed/train/input_198.nii.gz'), PosixPath('OASIS_preprocessed/train/input_199.nii.gz'), PosixPath('OASIS_preprocessed/train/input_2.nii.gz'), PosixPath('OASIS_preprocessed/train/input_20.nii.gz'), PosixPath('OASIS_preprocessed/train/input_200.nii.gz'), PosixPath('OASIS_preprocessed/train/input_201.nii.gz'), PosixPath('OASIS_preprocessed/train/input_202.nii.gz'), PosixPath('OASIS_preprocessed/train/input_203.nii.gz'), PosixPath('OASIS_preprocessed/train/input_204.nii.gz'), PosixPath('OASIS_preprocessed/train/input_205.nii.gz'), PosixPath('OASIS_preprocessed/train/input_206.nii.gz'), PosixPath('OASIS_preprocessed/train/input_207.nii.gz'), PosixPath('OASIS_preprocessed/train/input_208.nii.gz'), PosixPath('OASIS_preprocessed/train/input_209.nii.gz'), PosixPath('OASIS_preprocessed/train/input_21.nii.gz'), PosixPath('OASIS_preprocessed/train/input_210.nii.gz'), PosixPath('OASIS_preprocessed/train/input_211.nii.gz'), PosixPath('OASIS_preprocessed/train/input_212.nii.gz'), PosixPath('OASIS_preprocessed/train/input_213.nii.gz'), PosixPath('OASIS_preprocessed/train/input_214.nii.gz'), PosixPath('OASIS_preprocessed/train/input_215.nii.gz'), PosixPath('OASIS_preprocessed/train/input_216.nii.gz'), PosixPath('OASIS_preprocessed/train/input_217.nii.gz'), PosixPath('OASIS_preprocessed/train/input_218.nii.gz'), PosixPath('OASIS_preprocessed/train/input_219.nii.gz'), PosixPath('OASIS_preprocessed/train/input_22.nii.gz'), PosixPath('OASIS_preprocessed/train/input_220.nii.gz'), PosixPath('OASIS_preprocessed/train/input_221.nii.gz'), PosixPath('OASIS_preprocessed/train/input_222.nii.gz'), PosixPath('OASIS_preprocessed/train/input_223.nii.gz'), PosixPath('OASIS_preprocessed/train/input_224.nii.gz'), PosixPath('OASIS_preprocessed/train/input_225.nii.gz'), PosixPath('OASIS_preprocessed/train/input_226.nii.gz'), PosixPath('OASIS_preprocessed/train/input_227.nii.gz'), PosixPath('OASIS_preprocessed/train/input_228.nii.gz'), PosixPath('OASIS_preprocessed/train/input_229.nii.gz'), PosixPath('OASIS_preprocessed/train/input_23.nii.gz'), PosixPath('OASIS_preprocessed/train/input_230.nii.gz'), PosixPath('OASIS_preprocessed/train/input_231.nii.gz'), PosixPath('OASIS_preprocessed/train/input_232.nii.gz'), PosixPath('OASIS_preprocessed/train/input_233.nii.gz'), PosixPath('OASIS_preprocessed/train/input_234.nii.gz'), PosixPath('OASIS_preprocessed/train/input_235.nii.gz'), PosixPath('OASIS_preprocessed/train/input_236.nii.gz'), PosixPath('OASIS_preprocessed/train/input_237.nii.gz'), PosixPath('OASIS_preprocessed/train/input_238.nii.gz'), PosixPath('OASIS_preprocessed/train/input_239.nii.gz'), PosixPath('OASIS_preprocessed/train/input_24.nii.gz'), PosixPath('OASIS_preprocessed/train/input_240.nii.gz'), PosixPath('OASIS_preprocessed/train/input_241.nii.gz'), PosixPath('OASIS_preprocessed/train/input_242.nii.gz'), PosixPath('OASIS_preprocessed/train/input_243.nii.gz'), PosixPath('OASIS_preprocessed/train/input_244.nii.gz'), PosixPath('OASIS_preprocessed/train/input_245.nii.gz'), PosixPath('OASIS_preprocessed/train/input_246.nii.gz'), PosixPath('OASIS_preprocessed/train/input_247.nii.gz'), PosixPath('OASIS_preprocessed/train/input_248.nii.gz'), PosixPath('OASIS_preprocessed/train/input_249.nii.gz'), PosixPath('OASIS_preprocessed/train/input_25.nii.gz'), PosixPath('OASIS_preprocessed/train/input_250.nii.gz'), PosixPath('OASIS_preprocessed/train/input_251.nii.gz'), PosixPath('OASIS_preprocessed/train/input_252.nii.gz'), PosixPath('OASIS_preprocessed/train/input_253.nii.gz'), PosixPath('OASIS_preprocessed/train/input_254.nii.gz'), PosixPath('OASIS_preprocessed/train/input_255.nii.gz'), PosixPath('OASIS_preprocessed/train/input_256.nii.gz'), PosixPath('OASIS_preprocessed/train/input_257.nii.gz'), PosixPath('OASIS_preprocessed/train/input_258.nii.gz'), PosixPath('OASIS_preprocessed/train/input_259.nii.gz'), PosixPath('OASIS_preprocessed/train/input_26.nii.gz'), PosixPath('OASIS_preprocessed/train/input_260.nii.gz'), PosixPath('OASIS_preprocessed/train/input_261.nii.gz'), PosixPath('OASIS_preprocessed/train/input_262.nii.gz'), PosixPath('OASIS_preprocessed/train/input_263.nii.gz'), PosixPath('OASIS_preprocessed/train/input_264.nii.gz'), PosixPath('OASIS_preprocessed/train/input_265.nii.gz'), PosixPath('OASIS_preprocessed/train/input_266.nii.gz'), PosixPath('OASIS_preprocessed/train/input_267.nii.gz'), PosixPath('OASIS_preprocessed/train/input_268.nii.gz'), PosixPath('OASIS_preprocessed/train/input_269.nii.gz'), PosixPath('OASIS_preprocessed/train/input_27.nii.gz'), PosixPath('OASIS_preprocessed/train/input_270.nii.gz'), PosixPath('OASIS_preprocessed/train/input_271.nii.gz'), PosixPath('OASIS_preprocessed/train/input_272.nii.gz'), PosixPath('OASIS_preprocessed/train/input_273.nii.gz'), PosixPath('OASIS_preprocessed/train/input_274.nii.gz'), PosixPath('OASIS_preprocessed/train/input_275.nii.gz'), PosixPath('OASIS_preprocessed/train/input_276.nii.gz'), PosixPath('OASIS_preprocessed/train/input_277.nii.gz'), PosixPath('OASIS_preprocessed/train/input_278.nii.gz'), PosixPath('OASIS_preprocessed/train/input_279.nii.gz'), PosixPath('OASIS_preprocessed/train/input_28.nii.gz'), PosixPath('OASIS_preprocessed/train/input_280.nii.gz'), PosixPath('OASIS_preprocessed/train/input_281.nii.gz'), PosixPath('OASIS_preprocessed/train/input_282.nii.gz'), PosixPath('OASIS_preprocessed/train/input_283.nii.gz'), PosixPath('OASIS_preprocessed/train/input_284.nii.gz'), PosixPath('OASIS_preprocessed/train/input_285.nii.gz'), PosixPath('OASIS_preprocessed/train/input_286.nii.gz'), PosixPath('OASIS_preprocessed/train/input_287.nii.gz'), PosixPath('OASIS_preprocessed/train/input_288.nii.gz'), PosixPath('OASIS_preprocessed/train/input_289.nii.gz'), PosixPath('OASIS_preprocessed/train/input_29.nii.gz'), PosixPath('OASIS_preprocessed/train/input_290.nii.gz'), PosixPath('OASIS_preprocessed/train/input_291.nii.gz'), PosixPath('OASIS_preprocessed/train/input_292.nii.gz'), PosixPath('OASIS_preprocessed/train/input_293.nii.gz'), PosixPath('OASIS_preprocessed/train/input_294.nii.gz'), PosixPath('OASIS_preprocessed/train/input_295.nii.gz'), PosixPath('OASIS_preprocessed/train/input_296.nii.gz'), PosixPath('OASIS_preprocessed/train/input_297.nii.gz'), PosixPath('OASIS_preprocessed/train/input_298.nii.gz'), PosixPath('OASIS_preprocessed/train/input_299.nii.gz'), PosixPath('OASIS_preprocessed/train/input_3.nii.gz'), PosixPath('OASIS_preprocessed/train/input_30.nii.gz'), PosixPath('OASIS_preprocessed/train/input_300.nii.gz'), PosixPath('OASIS_preprocessed/train/input_301.nii.gz'), PosixPath('OASIS_preprocessed/train/input_302.nii.gz'), PosixPath('OASIS_preprocessed/train/input_303.nii.gz'), PosixPath('OASIS_preprocessed/train/input_304.nii.gz'), PosixPath('OASIS_preprocessed/train/input_305.nii.gz'), PosixPath('OASIS_preprocessed/train/input_306.nii.gz'), PosixPath('OASIS_preprocessed/train/input_307.nii.gz'), PosixPath('OASIS_preprocessed/train/input_308.nii.gz'), PosixPath('OASIS_preprocessed/train/input_309.nii.gz'), PosixPath('OASIS_preprocessed/train/input_31.nii.gz'), PosixPath('OASIS_preprocessed/train/input_310.nii.gz'), PosixPath('OASIS_preprocessed/train/input_311.nii.gz'), PosixPath('OASIS_preprocessed/train/input_312.nii.gz'), PosixPath('OASIS_preprocessed/train/input_313.nii.gz'), PosixPath('OASIS_preprocessed/train/input_314.nii.gz'), PosixPath('OASIS_preprocessed/train/input_315.nii.gz'), PosixPath('OASIS_preprocessed/train/input_316.nii.gz'), PosixPath('OASIS_preprocessed/train/input_317.nii.gz'), PosixPath('OASIS_preprocessed/train/input_318.nii.gz'), PosixPath('OASIS_preprocessed/train/input_319.nii.gz'), PosixPath('OASIS_preprocessed/train/input_32.nii.gz'), PosixPath('OASIS_preprocessed/train/input_320.nii.gz'), PosixPath('OASIS_preprocessed/train/input_321.nii.gz'), PosixPath('OASIS_preprocessed/train/input_322.nii.gz'), PosixPath('OASIS_preprocessed/train/input_323.nii.gz'), PosixPath('OASIS_preprocessed/train/input_324.nii.gz'), PosixPath('OASIS_preprocessed/train/input_33.nii.gz'), PosixPath('OASIS_preprocessed/train/input_34.nii.gz'), PosixPath('OASIS_preprocessed/train/input_35.nii.gz'), PosixPath('OASIS_preprocessed/train/input_36.nii.gz'), PosixPath('OASIS_preprocessed/train/input_37.nii.gz'), PosixPath('OASIS_preprocessed/train/input_38.nii.gz'), PosixPath('OASIS_preprocessed/train/input_39.nii.gz'), PosixPath('OASIS_preprocessed/train/input_4.nii.gz'), PosixPath('OASIS_preprocessed/train/input_40.nii.gz'), PosixPath('OASIS_preprocessed/train/input_41.nii.gz'), PosixPath('OASIS_preprocessed/train/input_42.nii.gz'), PosixPath('OASIS_preprocessed/train/input_43.nii.gz'), PosixPath('OASIS_preprocessed/train/input_44.nii.gz'), PosixPath('OASIS_preprocessed/train/input_45.nii.gz'), PosixPath('OASIS_preprocessed/train/input_46.nii.gz'), PosixPath('OASIS_preprocessed/train/input_47.nii.gz'), PosixPath('OASIS_preprocessed/train/input_48.nii.gz'), PosixPath('OASIS_preprocessed/train/input_49.nii.gz'), PosixPath('OASIS_preprocessed/train/input_5.nii.gz'), PosixPath('OASIS_preprocessed/train/input_50.nii.gz'), PosixPath('OASIS_preprocessed/train/input_51.nii.gz'), PosixPath('OASIS_preprocessed/train/input_52.nii.gz'), PosixPath('OASIS_preprocessed/train/input_53.nii.gz'), PosixPath('OASIS_preprocessed/train/input_54.nii.gz'), PosixPath('OASIS_preprocessed/train/input_55.nii.gz'), PosixPath('OASIS_preprocessed/train/input_56.nii.gz'), PosixPath('OASIS_preprocessed/train/input_57.nii.gz'), PosixPath('OASIS_preprocessed/train/input_58.nii.gz'), PosixPath('OASIS_preprocessed/train/input_59.nii.gz'), PosixPath('OASIS_preprocessed/train/input_6.nii.gz'), PosixPath('OASIS_preprocessed/train/input_60.nii.gz'), PosixPath('OASIS_preprocessed/train/input_61.nii.gz'), PosixPath('OASIS_preprocessed/train/input_62.nii.gz'), PosixPath('OASIS_preprocessed/train/input_63.nii.gz'), PosixPath('OASIS_preprocessed/train/input_64.nii.gz'), PosixPath('OASIS_preprocessed/train/input_65.nii.gz'), PosixPath('OASIS_preprocessed/train/input_66.nii.gz'), PosixPath('OASIS_preprocessed/train/input_67.nii.gz'), PosixPath('OASIS_preprocessed/train/input_68.nii.gz'), PosixPath('OASIS_preprocessed/train/input_69.nii.gz'), PosixPath('OASIS_preprocessed/train/input_7.nii.gz'), PosixPath('OASIS_preprocessed/train/input_70.nii.gz'), PosixPath('OASIS_preprocessed/train/input_71.nii.gz'), PosixPath('OASIS_preprocessed/train/input_72.nii.gz'), PosixPath('OASIS_preprocessed/train/input_73.nii.gz'), PosixPath('OASIS_preprocessed/train/input_74.nii.gz'), PosixPath('OASIS_preprocessed/train/input_75.nii.gz'), PosixPath('OASIS_preprocessed/train/input_76.nii.gz'), PosixPath('OASIS_preprocessed/train/input_77.nii.gz'), PosixPath('OASIS_preprocessed/train/input_78.nii.gz'), PosixPath('OASIS_preprocessed/train/input_79.nii.gz'), PosixPath('OASIS_preprocessed/train/input_8.nii.gz'), PosixPath('OASIS_preprocessed/train/input_80.nii.gz'), PosixPath('OASIS_preprocessed/train/input_81.nii.gz'), PosixPath('OASIS_preprocessed/train/input_82.nii.gz'), PosixPath('OASIS_preprocessed/train/input_83.nii.gz'), PosixPath('OASIS_preprocessed/train/input_84.nii.gz'), PosixPath('OASIS_preprocessed/train/input_85.nii.gz'), PosixPath('OASIS_preprocessed/train/input_86.nii.gz'), PosixPath('OASIS_preprocessed/train/input_87.nii.gz'), PosixPath('OASIS_preprocessed/train/input_88.nii.gz'), PosixPath('OASIS_preprocessed/train/input_89.nii.gz'), PosixPath('OASIS_preprocessed/train/input_9.nii.gz'), PosixPath('OASIS_preprocessed/train/input_90.nii.gz'), PosixPath('OASIS_preprocessed/train/input_91.nii.gz'), PosixPath('OASIS_preprocessed/train/input_92.nii.gz'), PosixPath('OASIS_preprocessed/train/input_93.nii.gz'), PosixPath('OASIS_preprocessed/train/input_94.nii.gz'), PosixPath('OASIS_preprocessed/train/input_95.nii.gz'), PosixPath('OASIS_preprocessed/train/input_96.nii.gz'), PosixPath('OASIS_preprocessed/train/input_97.nii.gz'), PosixPath('OASIS_preprocessed/train/input_98.nii.gz'), PosixPath('OASIS_preprocessed/train/input_99.nii.gz')]\n",
      "325\n",
      "[PosixPath('OASIS_preprocessed/train/label_0.nii.gz'), PosixPath('OASIS_preprocessed/train/label_1.nii.gz'), PosixPath('OASIS_preprocessed/train/label_10.nii.gz'), PosixPath('OASIS_preprocessed/train/label_100.nii.gz'), PosixPath('OASIS_preprocessed/train/label_101.nii.gz'), PosixPath('OASIS_preprocessed/train/label_102.nii.gz'), PosixPath('OASIS_preprocessed/train/label_103.nii.gz'), PosixPath('OASIS_preprocessed/train/label_104.nii.gz'), PosixPath('OASIS_preprocessed/train/label_105.nii.gz'), PosixPath('OASIS_preprocessed/train/label_106.nii.gz'), PosixPath('OASIS_preprocessed/train/label_107.nii.gz'), PosixPath('OASIS_preprocessed/train/label_108.nii.gz'), PosixPath('OASIS_preprocessed/train/label_109.nii.gz'), PosixPath('OASIS_preprocessed/train/label_11.nii.gz'), PosixPath('OASIS_preprocessed/train/label_110.nii.gz'), PosixPath('OASIS_preprocessed/train/label_111.nii.gz'), PosixPath('OASIS_preprocessed/train/label_112.nii.gz'), PosixPath('OASIS_preprocessed/train/label_113.nii.gz'), PosixPath('OASIS_preprocessed/train/label_114.nii.gz'), PosixPath('OASIS_preprocessed/train/label_115.nii.gz'), PosixPath('OASIS_preprocessed/train/label_116.nii.gz'), PosixPath('OASIS_preprocessed/train/label_117.nii.gz'), PosixPath('OASIS_preprocessed/train/label_118.nii.gz'), PosixPath('OASIS_preprocessed/train/label_119.nii.gz'), PosixPath('OASIS_preprocessed/train/label_12.nii.gz'), PosixPath('OASIS_preprocessed/train/label_120.nii.gz'), PosixPath('OASIS_preprocessed/train/label_121.nii.gz'), PosixPath('OASIS_preprocessed/train/label_122.nii.gz'), PosixPath('OASIS_preprocessed/train/label_123.nii.gz'), PosixPath('OASIS_preprocessed/train/label_124.nii.gz'), PosixPath('OASIS_preprocessed/train/label_125.nii.gz'), PosixPath('OASIS_preprocessed/train/label_126.nii.gz'), PosixPath('OASIS_preprocessed/train/label_127.nii.gz'), PosixPath('OASIS_preprocessed/train/label_128.nii.gz'), PosixPath('OASIS_preprocessed/train/label_129.nii.gz'), PosixPath('OASIS_preprocessed/train/label_13.nii.gz'), PosixPath('OASIS_preprocessed/train/label_130.nii.gz'), PosixPath('OASIS_preprocessed/train/label_131.nii.gz'), PosixPath('OASIS_preprocessed/train/label_132.nii.gz'), PosixPath('OASIS_preprocessed/train/label_133.nii.gz'), PosixPath('OASIS_preprocessed/train/label_134.nii.gz'), PosixPath('OASIS_preprocessed/train/label_135.nii.gz'), PosixPath('OASIS_preprocessed/train/label_136.nii.gz'), PosixPath('OASIS_preprocessed/train/label_137.nii.gz'), PosixPath('OASIS_preprocessed/train/label_138.nii.gz'), PosixPath('OASIS_preprocessed/train/label_139.nii.gz'), PosixPath('OASIS_preprocessed/train/label_14.nii.gz'), PosixPath('OASIS_preprocessed/train/label_140.nii.gz'), PosixPath('OASIS_preprocessed/train/label_141.nii.gz'), PosixPath('OASIS_preprocessed/train/label_142.nii.gz'), PosixPath('OASIS_preprocessed/train/label_143.nii.gz'), PosixPath('OASIS_preprocessed/train/label_144.nii.gz'), PosixPath('OASIS_preprocessed/train/label_145.nii.gz'), PosixPath('OASIS_preprocessed/train/label_146.nii.gz'), PosixPath('OASIS_preprocessed/train/label_147.nii.gz'), PosixPath('OASIS_preprocessed/train/label_148.nii.gz'), PosixPath('OASIS_preprocessed/train/label_149.nii.gz'), PosixPath('OASIS_preprocessed/train/label_15.nii.gz'), PosixPath('OASIS_preprocessed/train/label_150.nii.gz'), PosixPath('OASIS_preprocessed/train/label_151.nii.gz'), PosixPath('OASIS_preprocessed/train/label_152.nii.gz'), PosixPath('OASIS_preprocessed/train/label_153.nii.gz'), PosixPath('OASIS_preprocessed/train/label_154.nii.gz'), PosixPath('OASIS_preprocessed/train/label_155.nii.gz'), PosixPath('OASIS_preprocessed/train/label_156.nii.gz'), PosixPath('OASIS_preprocessed/train/label_157.nii.gz'), PosixPath('OASIS_preprocessed/train/label_158.nii.gz'), PosixPath('OASIS_preprocessed/train/label_159.nii.gz'), PosixPath('OASIS_preprocessed/train/label_16.nii.gz'), PosixPath('OASIS_preprocessed/train/label_160.nii.gz'), PosixPath('OASIS_preprocessed/train/label_161.nii.gz'), PosixPath('OASIS_preprocessed/train/label_162.nii.gz'), PosixPath('OASIS_preprocessed/train/label_163.nii.gz'), PosixPath('OASIS_preprocessed/train/label_164.nii.gz'), PosixPath('OASIS_preprocessed/train/label_165.nii.gz'), PosixPath('OASIS_preprocessed/train/label_166.nii.gz'), PosixPath('OASIS_preprocessed/train/label_167.nii.gz'), PosixPath('OASIS_preprocessed/train/label_168.nii.gz'), PosixPath('OASIS_preprocessed/train/label_169.nii.gz'), PosixPath('OASIS_preprocessed/train/label_17.nii.gz'), PosixPath('OASIS_preprocessed/train/label_170.nii.gz'), PosixPath('OASIS_preprocessed/train/label_171.nii.gz'), PosixPath('OASIS_preprocessed/train/label_172.nii.gz'), PosixPath('OASIS_preprocessed/train/label_173.nii.gz'), PosixPath('OASIS_preprocessed/train/label_174.nii.gz'), PosixPath('OASIS_preprocessed/train/label_175.nii.gz'), PosixPath('OASIS_preprocessed/train/label_176.nii.gz'), PosixPath('OASIS_preprocessed/train/label_177.nii.gz'), PosixPath('OASIS_preprocessed/train/label_178.nii.gz'), PosixPath('OASIS_preprocessed/train/label_179.nii.gz'), PosixPath('OASIS_preprocessed/train/label_18.nii.gz'), PosixPath('OASIS_preprocessed/train/label_180.nii.gz'), PosixPath('OASIS_preprocessed/train/label_181.nii.gz'), PosixPath('OASIS_preprocessed/train/label_182.nii.gz'), PosixPath('OASIS_preprocessed/train/label_183.nii.gz'), PosixPath('OASIS_preprocessed/train/label_184.nii.gz'), PosixPath('OASIS_preprocessed/train/label_185.nii.gz'), PosixPath('OASIS_preprocessed/train/label_186.nii.gz'), PosixPath('OASIS_preprocessed/train/label_187.nii.gz'), PosixPath('OASIS_preprocessed/train/label_188.nii.gz'), PosixPath('OASIS_preprocessed/train/label_189.nii.gz'), PosixPath('OASIS_preprocessed/train/label_19.nii.gz'), PosixPath('OASIS_preprocessed/train/label_190.nii.gz'), PosixPath('OASIS_preprocessed/train/label_191.nii.gz'), PosixPath('OASIS_preprocessed/train/label_192.nii.gz'), PosixPath('OASIS_preprocessed/train/label_193.nii.gz'), PosixPath('OASIS_preprocessed/train/label_194.nii.gz'), PosixPath('OASIS_preprocessed/train/label_195.nii.gz'), PosixPath('OASIS_preprocessed/train/label_196.nii.gz'), PosixPath('OASIS_preprocessed/train/label_197.nii.gz'), PosixPath('OASIS_preprocessed/train/label_198.nii.gz'), PosixPath('OASIS_preprocessed/train/label_199.nii.gz'), PosixPath('OASIS_preprocessed/train/label_2.nii.gz'), PosixPath('OASIS_preprocessed/train/label_20.nii.gz'), PosixPath('OASIS_preprocessed/train/label_200.nii.gz'), PosixPath('OASIS_preprocessed/train/label_201.nii.gz'), PosixPath('OASIS_preprocessed/train/label_202.nii.gz'), PosixPath('OASIS_preprocessed/train/label_203.nii.gz'), PosixPath('OASIS_preprocessed/train/label_204.nii.gz'), PosixPath('OASIS_preprocessed/train/label_205.nii.gz'), PosixPath('OASIS_preprocessed/train/label_206.nii.gz'), PosixPath('OASIS_preprocessed/train/label_207.nii.gz'), PosixPath('OASIS_preprocessed/train/label_208.nii.gz'), PosixPath('OASIS_preprocessed/train/label_209.nii.gz'), PosixPath('OASIS_preprocessed/train/label_21.nii.gz'), PosixPath('OASIS_preprocessed/train/label_210.nii.gz'), PosixPath('OASIS_preprocessed/train/label_211.nii.gz'), PosixPath('OASIS_preprocessed/train/label_212.nii.gz'), PosixPath('OASIS_preprocessed/train/label_213.nii.gz'), PosixPath('OASIS_preprocessed/train/label_214.nii.gz'), PosixPath('OASIS_preprocessed/train/label_215.nii.gz'), PosixPath('OASIS_preprocessed/train/label_216.nii.gz'), PosixPath('OASIS_preprocessed/train/label_217.nii.gz'), PosixPath('OASIS_preprocessed/train/label_218.nii.gz'), PosixPath('OASIS_preprocessed/train/label_219.nii.gz'), PosixPath('OASIS_preprocessed/train/label_22.nii.gz'), PosixPath('OASIS_preprocessed/train/label_220.nii.gz'), PosixPath('OASIS_preprocessed/train/label_221.nii.gz'), PosixPath('OASIS_preprocessed/train/label_222.nii.gz'), PosixPath('OASIS_preprocessed/train/label_223.nii.gz'), PosixPath('OASIS_preprocessed/train/label_224.nii.gz'), PosixPath('OASIS_preprocessed/train/label_225.nii.gz'), PosixPath('OASIS_preprocessed/train/label_226.nii.gz'), PosixPath('OASIS_preprocessed/train/label_227.nii.gz'), PosixPath('OASIS_preprocessed/train/label_228.nii.gz'), PosixPath('OASIS_preprocessed/train/label_229.nii.gz'), PosixPath('OASIS_preprocessed/train/label_23.nii.gz'), PosixPath('OASIS_preprocessed/train/label_230.nii.gz'), PosixPath('OASIS_preprocessed/train/label_231.nii.gz'), PosixPath('OASIS_preprocessed/train/label_232.nii.gz'), PosixPath('OASIS_preprocessed/train/label_233.nii.gz'), PosixPath('OASIS_preprocessed/train/label_234.nii.gz'), PosixPath('OASIS_preprocessed/train/label_235.nii.gz'), PosixPath('OASIS_preprocessed/train/label_236.nii.gz'), PosixPath('OASIS_preprocessed/train/label_237.nii.gz'), PosixPath('OASIS_preprocessed/train/label_238.nii.gz'), PosixPath('OASIS_preprocessed/train/label_239.nii.gz'), PosixPath('OASIS_preprocessed/train/label_24.nii.gz'), PosixPath('OASIS_preprocessed/train/label_240.nii.gz'), PosixPath('OASIS_preprocessed/train/label_241.nii.gz'), PosixPath('OASIS_preprocessed/train/label_242.nii.gz'), PosixPath('OASIS_preprocessed/train/label_243.nii.gz'), PosixPath('OASIS_preprocessed/train/label_244.nii.gz'), PosixPath('OASIS_preprocessed/train/label_245.nii.gz'), PosixPath('OASIS_preprocessed/train/label_246.nii.gz'), PosixPath('OASIS_preprocessed/train/label_247.nii.gz'), PosixPath('OASIS_preprocessed/train/label_248.nii.gz'), PosixPath('OASIS_preprocessed/train/label_249.nii.gz'), PosixPath('OASIS_preprocessed/train/label_25.nii.gz'), PosixPath('OASIS_preprocessed/train/label_250.nii.gz'), PosixPath('OASIS_preprocessed/train/label_251.nii.gz'), PosixPath('OASIS_preprocessed/train/label_252.nii.gz'), PosixPath('OASIS_preprocessed/train/label_253.nii.gz'), PosixPath('OASIS_preprocessed/train/label_254.nii.gz'), PosixPath('OASIS_preprocessed/train/label_255.nii.gz'), PosixPath('OASIS_preprocessed/train/label_256.nii.gz'), PosixPath('OASIS_preprocessed/train/label_257.nii.gz'), PosixPath('OASIS_preprocessed/train/label_258.nii.gz'), PosixPath('OASIS_preprocessed/train/label_259.nii.gz'), PosixPath('OASIS_preprocessed/train/label_26.nii.gz'), PosixPath('OASIS_preprocessed/train/label_260.nii.gz'), PosixPath('OASIS_preprocessed/train/label_261.nii.gz'), PosixPath('OASIS_preprocessed/train/label_262.nii.gz'), PosixPath('OASIS_preprocessed/train/label_263.nii.gz'), PosixPath('OASIS_preprocessed/train/label_264.nii.gz'), PosixPath('OASIS_preprocessed/train/label_265.nii.gz'), PosixPath('OASIS_preprocessed/train/label_266.nii.gz'), PosixPath('OASIS_preprocessed/train/label_267.nii.gz'), PosixPath('OASIS_preprocessed/train/label_268.nii.gz'), PosixPath('OASIS_preprocessed/train/label_269.nii.gz'), PosixPath('OASIS_preprocessed/train/label_27.nii.gz'), PosixPath('OASIS_preprocessed/train/label_270.nii.gz'), PosixPath('OASIS_preprocessed/train/label_271.nii.gz'), PosixPath('OASIS_preprocessed/train/label_272.nii.gz'), PosixPath('OASIS_preprocessed/train/label_273.nii.gz'), PosixPath('OASIS_preprocessed/train/label_274.nii.gz'), PosixPath('OASIS_preprocessed/train/label_275.nii.gz'), PosixPath('OASIS_preprocessed/train/label_276.nii.gz'), PosixPath('OASIS_preprocessed/train/label_277.nii.gz'), PosixPath('OASIS_preprocessed/train/label_278.nii.gz'), PosixPath('OASIS_preprocessed/train/label_279.nii.gz'), PosixPath('OASIS_preprocessed/train/label_28.nii.gz'), PosixPath('OASIS_preprocessed/train/label_280.nii.gz'), PosixPath('OASIS_preprocessed/train/label_281.nii.gz'), PosixPath('OASIS_preprocessed/train/label_282.nii.gz'), PosixPath('OASIS_preprocessed/train/label_283.nii.gz'), PosixPath('OASIS_preprocessed/train/label_284.nii.gz'), PosixPath('OASIS_preprocessed/train/label_285.nii.gz'), PosixPath('OASIS_preprocessed/train/label_286.nii.gz'), PosixPath('OASIS_preprocessed/train/label_287.nii.gz'), PosixPath('OASIS_preprocessed/train/label_288.nii.gz'), PosixPath('OASIS_preprocessed/train/label_289.nii.gz'), PosixPath('OASIS_preprocessed/train/label_29.nii.gz'), PosixPath('OASIS_preprocessed/train/label_290.nii.gz'), PosixPath('OASIS_preprocessed/train/label_291.nii.gz'), PosixPath('OASIS_preprocessed/train/label_292.nii.gz'), PosixPath('OASIS_preprocessed/train/label_293.nii.gz'), PosixPath('OASIS_preprocessed/train/label_294.nii.gz'), PosixPath('OASIS_preprocessed/train/label_295.nii.gz'), PosixPath('OASIS_preprocessed/train/label_296.nii.gz'), PosixPath('OASIS_preprocessed/train/label_297.nii.gz'), PosixPath('OASIS_preprocessed/train/label_298.nii.gz'), PosixPath('OASIS_preprocessed/train/label_299.nii.gz'), PosixPath('OASIS_preprocessed/train/label_3.nii.gz'), PosixPath('OASIS_preprocessed/train/label_30.nii.gz'), PosixPath('OASIS_preprocessed/train/label_300.nii.gz'), PosixPath('OASIS_preprocessed/train/label_301.nii.gz'), PosixPath('OASIS_preprocessed/train/label_302.nii.gz'), PosixPath('OASIS_preprocessed/train/label_303.nii.gz'), PosixPath('OASIS_preprocessed/train/label_304.nii.gz'), PosixPath('OASIS_preprocessed/train/label_305.nii.gz'), PosixPath('OASIS_preprocessed/train/label_306.nii.gz'), PosixPath('OASIS_preprocessed/train/label_307.nii.gz'), PosixPath('OASIS_preprocessed/train/label_308.nii.gz'), PosixPath('OASIS_preprocessed/train/label_309.nii.gz'), PosixPath('OASIS_preprocessed/train/label_31.nii.gz'), PosixPath('OASIS_preprocessed/train/label_310.nii.gz'), PosixPath('OASIS_preprocessed/train/label_311.nii.gz'), PosixPath('OASIS_preprocessed/train/label_312.nii.gz'), PosixPath('OASIS_preprocessed/train/label_313.nii.gz'), PosixPath('OASIS_preprocessed/train/label_314.nii.gz'), PosixPath('OASIS_preprocessed/train/label_315.nii.gz'), PosixPath('OASIS_preprocessed/train/label_316.nii.gz'), PosixPath('OASIS_preprocessed/train/label_317.nii.gz'), PosixPath('OASIS_preprocessed/train/label_318.nii.gz'), PosixPath('OASIS_preprocessed/train/label_319.nii.gz'), PosixPath('OASIS_preprocessed/train/label_32.nii.gz'), PosixPath('OASIS_preprocessed/train/label_320.nii.gz'), PosixPath('OASIS_preprocessed/train/label_321.nii.gz'), PosixPath('OASIS_preprocessed/train/label_322.nii.gz'), PosixPath('OASIS_preprocessed/train/label_323.nii.gz'), PosixPath('OASIS_preprocessed/train/label_324.nii.gz'), PosixPath('OASIS_preprocessed/train/label_33.nii.gz'), PosixPath('OASIS_preprocessed/train/label_34.nii.gz'), PosixPath('OASIS_preprocessed/train/label_35.nii.gz'), PosixPath('OASIS_preprocessed/train/label_36.nii.gz'), PosixPath('OASIS_preprocessed/train/label_37.nii.gz'), PosixPath('OASIS_preprocessed/train/label_38.nii.gz'), PosixPath('OASIS_preprocessed/train/label_39.nii.gz'), PosixPath('OASIS_preprocessed/train/label_4.nii.gz'), PosixPath('OASIS_preprocessed/train/label_40.nii.gz'), PosixPath('OASIS_preprocessed/train/label_41.nii.gz'), PosixPath('OASIS_preprocessed/train/label_42.nii.gz'), PosixPath('OASIS_preprocessed/train/label_43.nii.gz'), PosixPath('OASIS_preprocessed/train/label_44.nii.gz'), PosixPath('OASIS_preprocessed/train/label_45.nii.gz'), PosixPath('OASIS_preprocessed/train/label_46.nii.gz'), PosixPath('OASIS_preprocessed/train/label_47.nii.gz'), PosixPath('OASIS_preprocessed/train/label_48.nii.gz'), PosixPath('OASIS_preprocessed/train/label_49.nii.gz'), PosixPath('OASIS_preprocessed/train/label_5.nii.gz'), PosixPath('OASIS_preprocessed/train/label_50.nii.gz'), PosixPath('OASIS_preprocessed/train/label_51.nii.gz'), PosixPath('OASIS_preprocessed/train/label_52.nii.gz'), PosixPath('OASIS_preprocessed/train/label_53.nii.gz'), PosixPath('OASIS_preprocessed/train/label_54.nii.gz'), PosixPath('OASIS_preprocessed/train/label_55.nii.gz'), PosixPath('OASIS_preprocessed/train/label_56.nii.gz'), PosixPath('OASIS_preprocessed/train/label_57.nii.gz'), PosixPath('OASIS_preprocessed/train/label_58.nii.gz'), PosixPath('OASIS_preprocessed/train/label_59.nii.gz'), PosixPath('OASIS_preprocessed/train/label_6.nii.gz'), PosixPath('OASIS_preprocessed/train/label_60.nii.gz'), PosixPath('OASIS_preprocessed/train/label_61.nii.gz'), PosixPath('OASIS_preprocessed/train/label_62.nii.gz'), PosixPath('OASIS_preprocessed/train/label_63.nii.gz'), PosixPath('OASIS_preprocessed/train/label_64.nii.gz'), PosixPath('OASIS_preprocessed/train/label_65.nii.gz'), PosixPath('OASIS_preprocessed/train/label_66.nii.gz'), PosixPath('OASIS_preprocessed/train/label_67.nii.gz'), PosixPath('OASIS_preprocessed/train/label_68.nii.gz'), PosixPath('OASIS_preprocessed/train/label_69.nii.gz'), PosixPath('OASIS_preprocessed/train/label_7.nii.gz'), PosixPath('OASIS_preprocessed/train/label_70.nii.gz'), PosixPath('OASIS_preprocessed/train/label_71.nii.gz'), PosixPath('OASIS_preprocessed/train/label_72.nii.gz'), PosixPath('OASIS_preprocessed/train/label_73.nii.gz'), PosixPath('OASIS_preprocessed/train/label_74.nii.gz'), PosixPath('OASIS_preprocessed/train/label_75.nii.gz'), PosixPath('OASIS_preprocessed/train/label_76.nii.gz'), PosixPath('OASIS_preprocessed/train/label_77.nii.gz'), PosixPath('OASIS_preprocessed/train/label_78.nii.gz'), PosixPath('OASIS_preprocessed/train/label_79.nii.gz'), PosixPath('OASIS_preprocessed/train/label_8.nii.gz'), PosixPath('OASIS_preprocessed/train/label_80.nii.gz'), PosixPath('OASIS_preprocessed/train/label_81.nii.gz'), PosixPath('OASIS_preprocessed/train/label_82.nii.gz'), PosixPath('OASIS_preprocessed/train/label_83.nii.gz'), PosixPath('OASIS_preprocessed/train/label_84.nii.gz'), PosixPath('OASIS_preprocessed/train/label_85.nii.gz'), PosixPath('OASIS_preprocessed/train/label_86.nii.gz'), PosixPath('OASIS_preprocessed/train/label_87.nii.gz'), PosixPath('OASIS_preprocessed/train/label_88.nii.gz'), PosixPath('OASIS_preprocessed/train/label_89.nii.gz'), PosixPath('OASIS_preprocessed/train/label_9.nii.gz'), PosixPath('OASIS_preprocessed/train/label_90.nii.gz'), PosixPath('OASIS_preprocessed/train/label_91.nii.gz'), PosixPath('OASIS_preprocessed/train/label_92.nii.gz'), PosixPath('OASIS_preprocessed/train/label_93.nii.gz'), PosixPath('OASIS_preprocessed/train/label_94.nii.gz'), PosixPath('OASIS_preprocessed/train/label_95.nii.gz'), PosixPath('OASIS_preprocessed/train/label_96.nii.gz'), PosixPath('OASIS_preprocessed/train/label_97.nii.gz'), PosixPath('OASIS_preprocessed/train/label_98.nii.gz'), PosixPath('OASIS_preprocessed/train/label_99.nii.gz')]\n",
      "325\n"
     ]
    }
   ],
   "source": [
    "# Specify the OASIS path\n",
    "directory_path = Path('./OASIS_preprocessed/train/')\n",
    "\n",
    "# List all files in the directory that start with \"input_\" and sort them\n",
    "input_files = list(directory_path.glob(\"input_*\"))\n",
    "input_files.sort()\n",
    "\n",
    "# List all files in the directory that start with \"label_\" and sort them\n",
    "label_files = list(directory_path.glob(\"label_*\"))\n",
    "label_files.sort()\n",
    "\n",
    "\n",
    "print(input_files)\n",
    "print(len(input_files))\n",
    "print(label_files)\n",
    "print(len(label_files))"
   ]
  },
  {
   "cell_type": "code",
   "execution_count": 3,
   "metadata": {},
   "outputs": [],
   "source": [
    "output_path = Path('./Synapse/train_npz')\n",
    "train_txt_file = Path('../lists/lists_Synapse/train.txt')\n",
    "\n",
    "with open(train_txt_file, 'w') as train_file:\n",
    "    for input_file, label_file in zip(input_files, label_files):\n",
    "        input_img = nib.load(input_file)\n",
    "        label_img = nib.load(label_file)\n",
    "\n",
    "        input_data = input_img.get_fdata()\n",
    "        label_data = label_img.get_fdata()\n",
    "\n",
    "        # Ensure the shapes are compatible\n",
    "        assert input_data.shape == label_data.shape, \"Input and label shapes don't match.\"\n",
    "\n",
    "        # Create slices along the last dimension\n",
    "        num_slices = input_data.shape[-1]\n",
    "\n",
    "        for i in range(num_slices):\n",
    "            input_slice = input_data[..., i]\n",
    "            label_slice = label_data[..., i]\n",
    "\n",
    "            # Normalize the input slice\n",
    "            arr_min = input_slice.min()\n",
    "            arr_max = input_slice.max()\n",
    "            if arr_min == arr_max:\n",
    "                # Set the normalized array to 0 \n",
    "                input_slice = np.zeros(input_slice.shape)\n",
    "            else:\n",
    "                input_slice = (input_slice - arr_min) / (arr_max - arr_min)\n",
    "\n",
    "            # Construct the output file name\n",
    "            output_file_name = f\"{Path(input_file).stem[:-4]}_slice{i:03}.npz\"\n",
    "\n",
    "            # Save slices as .npz files in the specified output directory\n",
    "            output_file_path = output_path / output_file_name\n",
    "            np.savez(output_file_path, image=input_slice, label=label_slice)\n",
    "\n",
    "            \n",
    "            # Write output_file_name to train.txt\n",
    "            train_file.write(f\"{output_file_name[:-4]}\\n\")\n"
   ]
  },
  {
   "cell_type": "code",
   "execution_count": 4,
   "metadata": {},
   "outputs": [],
   "source": [
    "output_path = Path('./Synapse/test_vol_h5')\n",
    "test_txt_file = Path('../lists/lists_Synapse/test_vol.txt')\n",
    "\n",
    "with open(test_txt_file, 'w') as test_file:\n",
    "    for input_file, label_file in zip(input_files, label_files):\n",
    "        input_img = nib.load(input_file)\n",
    "        label_img = nib.load(label_file)\n",
    "\n",
    "        input_data = input_img.get_fdata()\n",
    "        label_data = label_img.get_fdata()\n",
    "\n",
    "        # Ensure the shapes are compatible\n",
    "        assert input_data.shape == label_data.shape, \"Input and label shapes don't match.\"\n",
    "\n",
    "        # Normalize the input data\n",
    "        arr_min = input_data.min()\n",
    "        arr_max = input_data.max()\n",
    "        input_data = (input_data - arr_min) / (arr_max - arr_min)\n",
    "\n",
    "        # Create the h5 file\n",
    "\n",
    "        # Construct the output file name\n",
    "        output_file_name = f\"{Path(input_file).stem[:-4]}.npy.h5\"\n",
    "        output_file_path = output_path / output_file_name\n",
    "\n",
    "        with h5py.File(output_file_path, 'w') as file:\n",
    "            file.create_dataset('image', data=input_data)\n",
    "            file.create_dataset('label', data=label_data)\n",
    "\n",
    "        # Write output_file_name to train.txt\n",
    "        test_file.write(f\"{output_file_name[:-7]}\\n\")"
   ]
  },
  {
   "cell_type": "markdown",
   "metadata": {},
   "source": [
    "### Find differences between OASIS and Synapse data"
   ]
  },
  {
   "cell_type": "code",
   "execution_count": 2,
   "metadata": {},
   "outputs": [],
   "source": [
    "import numpy as np"
   ]
  },
  {
   "cell_type": "code",
   "execution_count": 19,
   "metadata": {},
   "outputs": [],
   "source": [
    "og_case = np.load('OG_Synapse/train_npz/case0005_slice080.npz')\n",
    "og_case_img = og_case['image']\n",
    "og_case_label = og_case['label']\n",
    "\n",
    "new_case = np.load('Synapse/train_npz/input_0_slice040.npz')\n",
    "new_case_img = new_case['image']\n",
    "new_case_label = new_case['label']"
   ]
  },
  {
   "cell_type": "code",
   "execution_count": 20,
   "metadata": {},
   "outputs": [
    {
     "name": "stdout",
     "output_type": "stream",
     "text": [
      "OG img: (512, 512)\t float32\t 0.0 ... 1.0\n",
      "OG label: (512, 512)\t float32\t 0.0 ... 8.0\n",
      "New img: (64, 64)\t float64\t 0.0 ... 1.0\n",
      "New label: (64, 64)\t float64\t 0.0 ... 4.0\n"
     ]
    }
   ],
   "source": [
    "print(f'OG img: {og_case_img.shape}\\t {og_case_img.dtype}\\t {np.min(og_case_img)} ... {np.max(og_case_img)}')\n",
    "print(f'OG label: {og_case_label.shape}\\t {og_case_label.dtype}\\t {np.min(og_case_label)} ... {np.max(og_case_label)}')\n",
    "print(f'New img: {new_case_img.shape}\\t {new_case_img.dtype}\\t {np.min(new_case_img)} ... {np.max(new_case_img)}')\n",
    "print(f'New label: {new_case_label.shape}\\t {new_case_label.dtype}\\t {np.min(new_case_label)} ... {np.max(new_case_label)}')"
   ]
  },
  {
   "cell_type": "code",
   "execution_count": 21,
   "metadata": {},
   "outputs": [
    {
     "data": {
      "text/plain": [
       "<matplotlib.image.AxesImage at 0x7f05dc710fd0>"
      ]
     },
     "execution_count": 21,
     "metadata": {},
     "output_type": "execute_result"
    },
    {
     "data": {
      "image/png": "[encoded data removed]",
      "text/plain": [
       "<Figure size 640x480 with 1 Axes>"
      ]
     },
     "metadata": {},
     "output_type": "display_data"
    }
   ],
   "source": [
    "plt.imshow(og_case_label, cmap='gray')"
   ]
  },
  {
   "cell_type": "code",
   "execution_count": 22,
   "metadata": {},
   "outputs": [
    {
     "data": {
      "text/plain": [
       "<matplotlib.image.AxesImage at 0x7f05df4b8be0>"
      ]
     },
     "execution_count": 22,
     "metadata": {},
     "output_type": "execute_result"
    },
    {
     "data": {
      "image/png": "[encoded data removed]",
      "text/plain": [
       "<Figure size 640x480 with 1 Axes>"
      ]
     },
     "metadata": {},
     "output_type": "display_data"
    }
   ],
   "source": [
    "plt.imshow(new_case_label, cmap='gray')"
   ]
  },
  {
   "cell_type": "code",
   "execution_count": 18,
   "metadata": {},
   "outputs": [],
   "source": []
  },
  {
   "cell_type": "markdown",
   "metadata": {},
   "source": [
    "### Find the reason for value 255 in label"
   ]
  },
  {
   "cell_type": "code",
   "execution_count": 2,
   "metadata": {},
   "outputs": [],
   "source": [
    "import numpy as np\n",
    "import os"
   ]
  },
  {
   "cell_type": "code",
   "execution_count": 5,
   "metadata": {},
   "outputs": [
    {
     "name": "stdout",
     "output_type": "stream",
     "text": [
      "File: OAS1_0021_MR1_slice147.npz, Unique Values: [255.]\n",
      "File: OAS1_0122_MR1_slice153.npz, Unique Values: [29.]\n",
      "File: OAS1_0326_MR1_slice143.npz, Unique Values: [29.]\n",
      "File: OAS1_0453_MR1_slice136.npz, Unique Values: [29.]\n",
      "File: OAS1_0428_MR1_slice153.npz, Unique Values: [29.]\n",
      "File: OAS1_0441_MR1_slice095.npz, Unique Values: [29.]\n",
      "File: OAS1_0390_MR1_slice127.npz, Unique Values: [29.]\n",
      "File: OAS1_0138_MR1_slice135.npz, Unique Values: [29.]\n",
      "File: OAS1_0021_MR1_slice153.npz, Unique Values: [255.]\n",
      "File: OAS1_0400_MR1_slice137.npz, Unique Values: [29.]\n",
      "File: OAS1_0021_MR1_slice149.npz, Unique Values: [255.]\n",
      "File: OAS1_0038_MR1_slice133.npz, Unique Values: [29.]\n",
      "File: OAS1_0197_MR1_slice097.npz, Unique Values: [29.]\n",
      "File: OAS1_0021_MR1_slice148.npz, Unique Values: [255.]\n",
      "File: OAS1_0042_MR1_slice127.npz, Unique Values: [29.]\n",
      "File: OAS1_0062_MR1_slice139.npz, Unique Values: [29.]\n",
      "File: OAS1_0438_MR1_slice104.npz, Unique Values: [29.]\n",
      "File: OAS1_0157_MR1_slice159.npz, Unique Values: [29.]\n"
     ]
    }
   ],
   "source": [
    "# Directory containing npz files\n",
    "directory = \"./Synapse/train_npz\"\n",
    "\n",
    "# Iterate over each file in the directory\n",
    "for filename in os.listdir(directory):\n",
    "    if filename.endswith(\".npz\"):\n",
    "        file_path = os.path.join(directory, filename)\n",
    "        # Load data from npz file\n",
    "        data = np.load(file_path)\n",
    "        unique_values = np.unique(data['label'])\n",
    "        # Check if unique values are [0, 1, 2, 3, 4, 5, 6]\n",
    "        if np.any(unique_values > 6):\n",
    "            print(f\"File: {filename}, Unique Values: {unique_values[unique_values > 6]}\")"
   ]
  },
  {
   "cell_type": "code",
   "execution_count": 7,
   "metadata": {},
   "outputs": [
    {
     "name": "stdout",
     "output_type": "stream",
     "text": [
      "Processed: ./Synapse/train_npz/OAS1_0021_MR1_slice147.npz\n",
      "Processed: ./Synapse/train_npz/OAS1_0122_MR1_slice153.npz\n",
      "Processed: ./Synapse/train_npz/OAS1_0326_MR1_slice143.npz\n",
      "Processed: ./Synapse/train_npz/OAS1_0453_MR1_slice136.npz\n",
      "Processed: ./Synapse/train_npz/OAS1_0428_MR1_slice153.npz\n",
      "Processed: ./Synapse/train_npz/OAS1_0441_MR1_slice095.npz\n",
      "Processed: ./Synapse/train_npz/OAS1_0390_MR1_slice127.npz\n",
      "Processed: ./Synapse/train_npz/OAS1_0138_MR1_slice135.npz\n",
      "Processed: ./Synapse/train_npz/OAS1_0021_MR1_slice153.npz\n",
      "Processed: ./Synapse/train_npz/OAS1_0400_MR1_slice137.npz\n",
      "Processed: ./Synapse/train_npz/OAS1_0021_MR1_slice149.npz\n",
      "Processed: ./Synapse/train_npz/OAS1_0038_MR1_slice133.npz\n",
      "Processed: ./Synapse/train_npz/OAS1_0197_MR1_slice097.npz\n",
      "Processed: ./Synapse/train_npz/OAS1_0021_MR1_slice148.npz\n",
      "Processed: ./Synapse/train_npz/OAS1_0042_MR1_slice127.npz\n",
      "Processed: ./Synapse/train_npz/OAS1_0062_MR1_slice139.npz\n",
      "Processed: ./Synapse/train_npz/OAS1_0438_MR1_slice104.npz\n",
      "Processed: ./Synapse/train_npz/OAS1_0157_MR1_slice159.npz\n"
     ]
    }
   ],
   "source": [
    "# left-undetermined to left white matter (29 -> 2)\n",
    "# Corpus callosum part to Deep Gray Matter (255 -> 4)\n",
    "file_names = ['OAS1_0021_MR1_slice147.npz', 'OAS1_0122_MR1_slice153.npz', 'OAS1_0326_MR1_slice143.npz', 'OAS1_0453_MR1_slice136.npz', 'OAS1_0428_MR1_slice153.npz', 'OAS1_0441_MR1_slice095.npz', 'OAS1_0390_MR1_slice127.npz', 'OAS1_0138_MR1_slice135.npz', \n",
    "              'OAS1_0021_MR1_slice153.npz', 'OAS1_0400_MR1_slice137.npz', 'OAS1_0021_MR1_slice149.npz', 'OAS1_0038_MR1_slice133.npz', 'OAS1_0197_MR1_slice097.npz', 'OAS1_0021_MR1_slice148.npz', 'OAS1_0042_MR1_slice127.npz', 'OAS1_0062_MR1_slice139.npz',\n",
    "              'OAS1_0438_MR1_slice104.npz', 'OAS1_0157_MR1_slice159.npz']\n",
    "\n",
    "for filename in file_names:\n",
    "        file_path = os.path.join(directory, filename)\n",
    "        if os.path.isfile(file_path) and file_path.endswith(\".npz\"):\n",
    "            # Load data from npz file\n",
    "            image = np.load(file_path)['image']\n",
    "            label = np.load(file_path)['label']\n",
    "            # Replace values\n",
    "            label[label == 29] = 2\n",
    "            label[label == 255] = 4\n",
    "            # Overwrite the file\n",
    "            np.savez_compressed(file_path, image=image, label=label)\n",
    "            print(f\"Processed: {file_path}\")\n"
   ]
  },
  {
   "cell_type": "code",
   "execution_count": 1,
   "metadata": {},
   "outputs": [
    {
     "name": "stdout",
     "output_type": "stream",
     "text": [
      "Common factors: {1, 2, 4, 8, 16}\n",
      "Suitable window size: 16\n"
     ]
    }
   ],
   "source": [
    "import numpy as np\n",
    "\n",
    "# Assuming x is your input array\n",
    "x = np.random.random((1, 16, 16, 1))  # An example array with shape (1, 256, 256, 3)\n",
    "\n",
    "B, H, W, C = x.shape\n",
    "\n",
    "# Find factors of the height and width\n",
    "height_factors = [i for i in range(1, H + 1) if H % i == 0]\n",
    "width_factors = [i for i in range(1, W + 1) if W % i == 0]\n",
    "\n",
    "# Find common factors\n",
    "common_factors = set(height_factors) & set(width_factors)\n",
    "\n",
    "# Choose a suitable window size\n",
    "window_size = max(common_factors)\n",
    "\n",
    "print(\"Common factors:\", common_factors)\n",
    "print(\"Suitable window size:\", window_size)"
   ]
  },
  {
   "cell_type": "code",
   "execution_count": null,
   "metadata": {},
   "outputs": [],
   "source": []
  }
 ],
 "metadata": {
  "kernelspec": {
   "display_name": "Python 3",
   "language": "python",
   "name": "python3"
  },
  "language_info": {
   "codemirror_mode": {
    "name": "ipython",
    "version": 3
   },
   "file_extension": ".py",
   "mimetype": "text/x-python",
   "name": "python",
   "nbconvert_exporter": "python",
   "pygments_lexer": "ipython3",
   "version": "3.8.18"
  }
 },
 "nbformat": 4,
 "nbformat_minor": 2
}
