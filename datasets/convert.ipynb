{
 "cells": [
  {
   "cell_type": "code",
   "execution_count": 1,
   "metadata": {},
   "outputs": [],
   "source": [
    "import h5py\n",
    "import numpy as np\n",
    "import random\n",
    "import os\n",
    "import nibabel as nib\n",
    "import matplotlib.pyplot as plt"
   ]
  },
  {
   "cell_type": "code",
   "execution_count": 2,
   "metadata": {},
   "outputs": [],
   "source": [
    "def custom_mapping(x):\n",
    "    # Map FreeSurfer label values to kseg tissue label values\n",
    "    mapping = {\n",
    "        0: 0,\n",
    "        2: 3,\n",
    "        3: 2,\n",
    "        4: 1,\n",
    "        5: 1,\n",
    "        7: 6,\n",
    "        8: 6,\n",
    "        10: 4,\n",
    "        11: 4,\n",
    "        12: 4,\n",
    "        13: 4,\n",
    "        14: 1,\n",
    "        15: 1,\n",
    "        16: 5,\n",
    "        17: 4,\n",
    "        18: 4,\n",
    "        24: 1,\n",
    "        26: 4,\n",
    "        28: 4,\n",
    "        30: 1,\n",
    "        41: 3,\n",
    "        42: 2,\n",
    "        43: 1,\n",
    "        44: 1,\n",
    "        46: 6,\n",
    "        47: 6,\n",
    "        49: 4,\n",
    "        50: 4,\n",
    "        51: 4,\n",
    "        52: 4,\n",
    "        53: 4,\n",
    "        54: 4,\n",
    "        58: 4,\n",
    "        60: 4,\n",
    "        62: 1,\n",
    "        72: 1,\n",
    "        78: 3,\n",
    "        79: 3,\n",
    "        81: 4,\n",
    "        82: 4,\n",
    "        85: 5,\n",
    "    }\n",
    "    # This is used to prevent replacing replaced values\n",
    "    replaced_mask = np.zeros_like(x, dtype=bool)\n",
    "\n",
    "    for original, new in mapping.items():\n",
    "        mask = (x == original) & (~replaced_mask)\n",
    "        x[mask] = new\n",
    "        replaced_mask[mask] = True\n",
    "    return x\n"
   ]
  },
  {
   "cell_type": "code",
   "execution_count": 3,
   "metadata": {},
   "outputs": [
    {
     "name": "stdout",
     "output_type": "stream",
     "text": [
      "['OAS1_0144_MR1', 'OAS1_0181_MR1', 'OAS1_0303_MR1', 'OAS1_0372_MR1', 'OAS1_0344_MR1', 'OAS1_0411_MR1', 'OAS1_0377_MR1', 'OAS1_0023_MR1', 'OAS1_0400_MR1', 'OAS1_0035_MR1', 'OAS1_0096_MR1', 'OAS1_0330_MR1', 'OAS1_0239_MR1', 'OAS1_0426_MR1', 'OAS1_0052_MR1', 'OAS1_0432_MR1', 'OAS1_0074_MR1', 'OAS1_0212_MR1', 'OAS1_0374_MR1', 'OAS1_0146_MR1', 'OAS1_0091_MR1', 'OAS1_0183_MR1', 'OAS1_0177_MR1', 'OAS1_0416_MR1', 'OAS1_0042_MR1', 'OAS1_0166_MR1', 'OAS1_0346_MR1', 'OAS1_0054_MR1', 'OAS1_0299_MR1', 'OAS1_0433_MR1', 'OAS1_0294_MR1', 'OAS1_0190_MR1', 'OAS1_0033_MR1', 'OAS1_0090_MR1', 'OAS1_0341_MR1', 'OAS1_0188_MR1', 'OAS1_0269_MR1', 'OAS1_0070_MR1', 'OAS1_0261_MR1', 'OAS1_0227_MR1', 'OAS1_0401_MR1', 'OAS1_0112_MR1', 'OAS1_0189_MR1', 'OAS1_0438_MR1', 'OAS1_0105_MR1', 'OAS1_0340_MR1', 'OAS1_0208_MR1', 'OAS1_0421_MR1', 'OAS1_0243_MR1', 'OAS1_0027_MR1', 'OAS1_0331_MR1', 'OAS1_0010_MR1', 'OAS1_0170_MR1', 'OAS1_0348_MR1', 'OAS1_0371_MR1', 'OAS1_0191_MR1', 'OAS1_0295_MR1', 'OAS1_0272_MR1', 'OAS1_0200_MR1', 'OAS1_0419_MR1', 'OAS1_0104_MR1', 'OAS1_0098_MR1', 'OAS1_0351_MR1', 'OAS1_0131_MR1', 'OAS1_0163_MR1', 'OAS1_0087_MR1', 'OAS1_0443_MR1', 'OAS1_0006_MR1', 'OAS1_0379_MR1', 'OAS1_0041_MR1', 'OAS1_0135_MR1', 'OAS1_0376_MR1', 'OAS1_0369_MR1', 'OAS1_0315_MR1', 'OAS1_0138_MR1', 'OAS1_0439_MR1', 'OAS1_0457_MR1', 'OAS1_0056_MR1', 'OAS1_0051_MR1', 'OAS1_0246_MR1', 'OAS1_0293_MR1', 'OAS1_0429_MR1', 'OAS1_0441_MR1', 'OAS1_0390_MR1', 'OAS1_0020_MR1', 'OAS1_0455_MR1', 'OAS1_0111_MR1', 'OAS1_0275_MR1', 'OAS1_0083_MR1', 'OAS1_0019_MR1', 'OAS1_0211_MR1', 'OAS1_0011_MR1', 'OAS1_0129_MR1', 'OAS1_0066_MR1', 'OAS1_0162_MR1', 'OAS1_0061_MR1', 'OAS1_0442_MR1', 'OAS1_0206_MR1', 'OAS1_0116_MR1', 'OAS1_0121_MR1', 'OAS1_0445_MR1', 'OAS1_0078_MR1', 'OAS1_0132_MR1', 'OAS1_0147_MR1', 'OAS1_0431_MR1', 'OAS1_0260_MR1', 'OAS1_0134_MR1', 'OAS1_0071_MR1', 'OAS1_0241_MR1', 'OAS1_0021_MR1', 'OAS1_0037_MR1', 'OAS1_0022_MR1', 'OAS1_0064_MR1', 'OAS1_0160_MR1', 'OAS1_0418_MR1', 'OAS1_0026_MR1', 'OAS1_0396_MR1', 'OAS1_0278_MR1', 'OAS1_0301_MR1', 'OAS1_0079_MR1', 'OAS1_0316_MR1', 'OAS1_0270_MR1', 'OAS1_0130_MR1', 'OAS1_0001_MR1', 'OAS1_0103_MR1', 'OAS1_0247_MR1', 'OAS1_0230_MR1', 'OAS1_0173_MR1', 'OAS1_0082_MR1', 'OAS1_0263_MR1', 'OAS1_0193_MR1', 'OAS1_0358_MR1', 'OAS1_0355_MR1', 'OAS1_0398_MR1', 'OAS1_0280_MR1', 'OAS1_0167_MR1', 'OAS1_0256_MR1', 'OAS1_0244_MR1', 'OAS1_0307_MR1', 'OAS1_0448_MR1', 'OAS1_0184_MR1', 'OAS1_0262_MR1', 'OAS1_0383_MR1', 'OAS1_0279_MR1', 'OAS1_0158_MR1', 'OAS1_0072_MR1', 'OAS1_0205_MR1', 'OAS1_0385_MR1', 'OAS1_0268_MR1', 'OAS1_0359_MR1', 'OAS1_0222_MR1', 'OAS1_0399_MR1', 'OAS1_0094_MR1', 'OAS1_0201_MR1', 'OAS1_0182_MR1', 'OAS1_0157_MR1', 'OAS1_0003_MR1', 'OAS1_0124_MR1', 'OAS1_0231_MR1', 'OAS1_0259_MR1', 'OAS1_0059_MR1', 'OAS1_0282_MR1', 'OAS1_0007_MR1', 'OAS1_0388_MR1', 'OAS1_0233_MR1', 'OAS1_0337_MR1', 'OAS1_0382_MR1', 'OAS1_0367_MR1', 'OAS1_0287_MR1', 'OAS1_0092_MR1', 'OAS1_0062_MR1', 'OAS1_0195_MR1', 'OAS1_0140_MR1', 'OAS1_0354_MR1', 'OAS1_0271_MR1', 'OAS1_0197_MR1', 'OAS1_0273_MR1', 'OAS1_0286_MR1', 'OAS1_0322_MR1', 'OAS1_0176_MR1', 'OAS1_0298_MR1', 'OAS1_0428_MR1', 'OAS1_0045_MR1', 'OAS1_0363_MR1', 'OAS1_0156_MR1', 'OAS1_0408_MR1', 'OAS1_0288_MR1', 'OAS1_0198_MR1', 'OAS1_0417_MR1', 'OAS1_0013_MR1', 'OAS1_0232_MR1', 'OAS1_0038_MR1', 'OAS1_0159_MR1', 'OAS1_0425_MR1', 'OAS1_0284_MR1', 'OAS1_0151_MR1', 'OAS1_0224_MR1', 'OAS1_0327_MR1', 'OAS1_0180_MR1', 'OAS1_0050_MR1', 'OAS1_0249_MR1', 'OAS1_0102_MR1', 'OAS1_0174_MR1', 'OAS1_0228_MR1', 'OAS1_0077_MR1', 'OAS1_0321_MR1', 'OAS1_0291_MR1', 'OAS1_0213_MR1', 'OAS1_0099_MR1', 'OAS1_0150_MR1', 'OAS1_0122_MR1', 'OAS1_0055_MR1', 'OAS1_0085_MR1', 'OAS1_0420_MR1', 'OAS1_0186_MR1', 'OAS1_0221_MR1', 'OAS1_0332_MR1', 'OAS1_0204_MR1', 'OAS1_0311_MR1', 'OAS1_0449_MR1', 'OAS1_0444_MR1', 'OAS1_0264_MR1', 'OAS1_0254_MR1', 'OAS1_0392_MR1', 'OAS1_0168_MR1', 'OAS1_0017_MR1', 'OAS1_0440_MR1', 'OAS1_0155_MR1', 'OAS1_0199_MR1', 'OAS1_0453_MR1', 'OAS1_0357_MR1', 'OAS1_0095_MR1', 'OAS1_0164_MR1', 'OAS1_0413_MR1', 'OAS1_0375_MR1', 'OAS1_0326_MR1', 'OAS1_0069_MR1', 'OAS1_0312_MR1', 'OAS1_0133_MR1', 'OAS1_0313_MR1', 'OAS1_0361_MR1', 'OAS1_0345_MR1', 'OAS1_0335_MR1', 'OAS1_0039_MR1', 'OAS1_0119_MR1', 'OAS1_0028_MR1', 'OAS1_0210_MR1', 'OAS1_0236_MR1', 'OAS1_0088_MR1', 'OAS1_0217_MR1', 'OAS1_0012_MR1', 'OAS1_0136_MR1', 'OAS1_0120_MR1', 'OAS1_0302_MR1', 'OAS1_0049_MR1', 'OAS1_0447_MR1', 'OAS1_0152_MR1', 'OAS1_0101_MR1', 'OAS1_0161_MR1', 'OAS1_0016_MR1', 'OAS1_0274_MR1', 'OAS1_0277_MR1', 'OAS1_0289_MR1', 'OAS1_0117_MR1', 'OAS1_0115_MR1', 'OAS1_0446_MR1', 'OAS1_0329_MR1', 'OAS1_0223_MR1', 'OAS1_0073_MR1', 'OAS1_0310_MR1', 'OAS1_0063_MR1', 'OAS1_0126_MR1', 'OAS1_0084_MR1', 'OAS1_0387_MR1', 'OAS1_0145_MR1', 'OAS1_0378_MR1', 'OAS1_0237_MR1', 'OAS1_0125_MR1', 'OAS1_0065_MR1', 'OAS1_0410_MR1', 'OAS1_0108_MR1', 'OAS1_0040_MR1', 'OAS1_0395_MR1', 'OAS1_0067_MR1', 'OAS1_0015_MR1', 'OAS1_0452_MR1', 'OAS1_0319_MR1', 'OAS1_0075_MR1', 'OAS1_0454_MR1', 'OAS1_0394_MR1', 'OAS1_0362_MR1', 'OAS1_0114_MR1', 'OAS1_0109_MR1', 'OAS1_0437_MR1', 'OAS1_0178_MR1', 'OAS1_0397_MR1', 'OAS1_0339_MR1', 'OAS1_0308_MR1', 'OAS1_0318_MR1', 'OAS1_0086_MR1', 'OAS1_0409_MR1', 'OAS1_0107_MR1', 'OAS1_0366_MR1', 'OAS1_0029_MR1', 'OAS1_0423_MR1', 'OAS1_0018_MR1', 'OAS1_0214_MR1', 'OAS1_0381_MR1', 'OAS1_0456_MR1', 'OAS1_0309_MR1', 'OAS1_0032_MR1', 'OAS1_0203_MR1', 'OAS1_0192_MR1', 'OAS1_0350_MR1', 'OAS1_0113_MR1', 'OAS1_0043_MR1', 'OAS1_0265_MR1', 'OAS1_0106_MR1', 'OAS1_0031_MR1', 'OAS1_0338_MR1', 'OAS1_0202_MR1', 'OAS1_0097_MR1', 'OAS1_0046_MR1', 'OAS1_0218_MR1', 'OAS1_0153_MR1', 'OAS1_0142_MR1', 'OAS1_0240_MR1', 'OAS1_0450_MR1', 'OAS1_0005_MR1', 'OAS1_0004_MR1', 'OAS1_0080_MR1', 'OAS1_0285_MR1', 'OAS1_0407_MR1', 'OAS1_0292_MR1', 'OAS1_0216_MR1', 'OAS1_0404_MR1', 'OAS1_0406_MR1', 'OAS1_0143_MR1', 'OAS1_0234_MR1', 'OAS1_0030_MR1', 'OAS1_0296_MR1', 'OAS1_0127_MR1', 'OAS1_0304_MR1', 'OAS1_0305_MR1', 'OAS1_0281_MR1', 'OAS1_0014_MR1', 'OAS1_0325_MR1', 'OAS1_0365_MR1', 'OAS1_0356_MR1', 'OAS1_0009_MR1', 'OAS1_0300_MR1', 'OAS1_0034_MR1', 'OAS1_0148_MR1', 'OAS1_0235_MR1', 'OAS1_0353_MR1', 'OAS1_0349_MR1', 'OAS1_0323_MR1', 'OAS1_0226_MR1', 'OAS1_0057_MR1', 'OAS1_0068_MR1', 'OAS1_0229_MR1', 'OAS1_0389_MR1', 'OAS1_0424_MR1', 'OAS1_0290_MR1', 'OAS1_0250_MR1', 'OAS1_0044_MR1', 'OAS1_0258_MR1', 'OAS1_0179_MR1', 'OAS1_0238_MR1', 'OAS1_0025_MR1', 'OAS1_0060_MR1', 'OAS1_0255_MR1', 'OAS1_0137_MR1', 'OAS1_0380_MR1', 'OAS1_0207_MR1', 'OAS1_0435_MR1', 'OAS1_0139_MR1', 'OAS1_0403_MR1', 'OAS1_0422_MR1', 'OAS1_0434_MR1', 'OAS1_0343_MR1', 'OAS1_0314_MR1', 'OAS1_0328_MR1', 'OAS1_0209_MR1', 'OAS1_0220_MR1', 'OAS1_0165_MR1', 'OAS1_0336_MR1', 'OAS1_0333_MR1', 'OAS1_0342_MR1', 'OAS1_0267_MR1', 'OAS1_0081_MR1', 'OAS1_0370_MR1', 'OAS1_0169_MR1', 'OAS1_0002_MR1', 'OAS1_0283_MR1', 'OAS1_0384_MR1', 'OAS1_0451_MR1', 'OAS1_0386_MR1', 'OAS1_0076_MR1', 'OAS1_0123_MR1', 'OAS1_0058_MR1', 'OAS1_0253_MR1', 'OAS1_0266_MR1', 'OAS1_0141_MR1', 'OAS1_0047_MR1']\n"
     ]
    }
   ],
   "source": [
    "files = os.listdir('./OASIS/')\n",
    "random.shuffle(files)\n",
    "print(files)"
   ]
  },
  {
   "cell_type": "code",
   "execution_count": 4,
   "metadata": {},
   "outputs": [],
   "source": [
    "# Split the list in train and test with ratio 0.8\n",
    "train_list = files[:int(len(files) * 0.8)]\n",
    "test_list = files[int(len(files) * 0.8):]"
   ]
  },
  {
   "cell_type": "code",
   "execution_count": 5,
   "metadata": {},
   "outputs": [],
   "source": [
    "# Create convert train files\n",
    "for train_file in train_list:\n",
    "    nii_img  = nib.load(f'./OASIS/{train_file}/mri/brainmask.nii.gz')\n",
    "    img = nii_img.get_fdata()\n",
    "    nii_label = nib.load(f'./OASIS/{train_file}/mri/aseg.nii.gz')\n",
    "    label = nii_label.get_fdata()\n",
    "\n",
    "    # Iterate over the axial dimension and save each slice separately\n",
    "    for i in range(img.shape[1]):\n",
    "        if i < 50:\n",
    "             continue\n",
    "        if i > 205:\n",
    "             break\n",
    "        # Get the slice along the second dimension\n",
    "        slice_img = img[:, i, :]\n",
    "\n",
    "        # Normalize slice between 0 and 1\n",
    "        min_val = np.min(slice_img)\n",
    "        max_val = np.max(slice_img)\n",
    "        if max_val == min_val:\n",
    "            # Avoid division by 0\n",
    "            normalized_slice_img = np.zeros_like(slice_img, dtype=np.float32)\n",
    "        else:\n",
    "            normalized_slice_img = ((slice_img - min_val) / (max_val - min_val)).astype(np.float32)\n",
    "\n",
    "        slice_label = custom_mapping(label[:, i, :]).astype(np.float32)\n",
    "        np.savez(f'./Synapse/train_npz/{train_file}_slice{i:03}.npz', image=normalized_slice_img, label=slice_label)\n",
    "\n",
    "        # Write file name into txt file\n",
    "        with open('../lists/lists_Synapse/train.txt', 'a+') as file:\n",
    "            file.write(f'{train_file}_slice{i:03}' + '\\n')\n",
    "\n",
    "for test_file in test_list:\n",
    "    nii_img  = nib.load(f'./OASIS/{test_file}/mri/brainmask.nii.gz')\n",
    "    img = nii_img.get_fdata()\n",
    "    nii_label = nib.load(f'./OASIS/{test_file}/mri/aseg.nii.gz')\n",
    "    label = custom_mapping(nii_label.get_fdata()).astype(np.float32)\n",
    "\n",
    "    # Normalize the arrays between 0 and 1\n",
    "    min_val = np.min(img)\n",
    "    max_val = np.max(img)\n",
    "    if max_val == min_val:\n",
    "        # Avoid division by 0\n",
    "        normalized_img = np.zeros_like(img, dtype=np.float32)\n",
    "    else:\n",
    "        normalized_img = ((img - min_val) / (max_val - min_val)).astype(np.float32)\n",
    "\n",
    "    # Create the h5 file\n",
    "    with h5py.File(f'./Synapse/test_vol_h5/{test_file}.npy.h5', 'w') as file:\n",
    "        file.create_dataset('image', data=normalized_img)\n",
    "        file.create_dataset('label', data=label)\n",
    "\n",
    "    # Write file name into txt file\n",
    "    with open('../lists/lists_Synapse/test_vol.txt', 'a+') as file:\n",
    "            file.write(f'{test_file}' + '\\n')\n"
   ]
  },
  {
   "cell_type": "markdown",
   "metadata": {},
   "source": [
    "### Find differences between OASIS and Synapse data"
   ]
  },
  {
   "cell_type": "code",
   "execution_count": 2,
   "metadata": {},
   "outputs": [],
   "source": [
    "import numpy as np"
   ]
  },
  {
   "cell_type": "code",
   "execution_count": 4,
   "metadata": {},
   "outputs": [],
   "source": [
    "og_case = np.load('OG_Synapse/train_npz/case0005_slice080.npz')\n",
    "og_case_img = og_case['image']\n",
    "og_case_label = og_case['label']\n",
    "\n",
    "new_case = np.load('Synapse/train_npz/OAS1_0289_MR1_slice128.npz')\n",
    "new_case_img = new_case['image']\n",
    "new_case_label = new_case['label']"
   ]
  },
  {
   "cell_type": "code",
   "execution_count": 5,
   "metadata": {},
   "outputs": [
    {
     "name": "stdout",
     "output_type": "stream",
     "text": [
      "OG img: (512, 512)\t float32\t 0.0 ... 1.0\n",
      "OG label: (512, 512)\t float32\t 0.0 ... 8.0\n",
      "New img: (256, 256)\t float32\t 0.0 ... 1.0\n",
      "New label: (256, 256)\t float32\t 0.0 ... 6.0\n"
     ]
    }
   ],
   "source": [
    "print(f'OG img: {og_case_img.shape}\\t {og_case_img.dtype}\\t {np.min(og_case_img)} ... {np.max(og_case_img)}')\n",
    "print(f'OG label: {og_case_label.shape}\\t {og_case_label.dtype}\\t {np.min(og_case_label)} ... {np.max(og_case_label)}')\n",
    "print(f'New img: {new_case_img.shape}\\t {new_case_img.dtype}\\t {np.min(new_case_img)} ... {np.max(new_case_img)}')\n",
    "print(f'New label: {new_case_label.shape}\\t {new_case_label.dtype}\\t {np.min(new_case_label)} ... {np.max(new_case_label)}')"
   ]
  },
  {
   "cell_type": "code",
   "execution_count": 28,
   "metadata": {},
   "outputs": [
    {
     "data": {
      "text/plain": [
       "<matplotlib.image.AxesImage at 0x7fcb752211c0>"
      ]
     },
     "execution_count": 28,
     "metadata": {},
     "output_type": "execute_result"
    },
    {
     "data": {
      "image/png": "[encoded data removed]",
      "text/plain": [
       "<Figure size 640x480 with 1 Axes>"
      ]
     },
     "metadata": {},
     "output_type": "display_data"
    }
   ],
   "source": [
    "plt.imshow(og_case_label, cmap='gray')"
   ]
  },
  {
   "cell_type": "code",
   "execution_count": 29,
   "metadata": {},
   "outputs": [
    {
     "data": {
      "text/plain": [
       "<matplotlib.image.AxesImage at 0x7fcb7f6c5610>"
      ]
     },
     "execution_count": 29,
     "metadata": {},
     "output_type": "execute_result"
    },
    {
     "data": {
      "image/png": "[encoded data removed]",
      "text/plain": [
       "<Figure size 640x480 with 1 Axes>"
      ]
     },
     "metadata": {},
     "output_type": "display_data"
    }
   ],
   "source": [
    "plt.imshow(new_case_label, cmap='gray')"
   ]
  },
  {
   "cell_type": "code",
   "execution_count": 18,
   "metadata": {},
   "outputs": [],
   "source": []
  },
  {
   "cell_type": "code",
   "execution_count": 11,
   "metadata": {},
   "outputs": [
    {
     "name": "stdout",
     "output_type": "stream",
     "text": [
      "[[False False False ... False False False]\n",
      " [False False False ... False False False]\n",
      " [False False False ... False False False]\n",
      " ...\n",
      " [False False False ... False False False]\n",
      " [False False False ... False False False]\n",
      " [False False False ... False False False]]\n"
     ]
    }
   ],
   "source": [
    "x = custom_mapping(new_case_label)"
   ]
  },
  {
   "cell_type": "code",
   "execution_count": 8,
   "metadata": {},
   "outputs": [
    {
     "data": {
      "text/plain": [
       "<matplotlib.image.AxesImage at 0x7f9f651af340>"
      ]
     },
     "execution_count": 8,
     "metadata": {},
     "output_type": "execute_result"
    },
    {
     "data": {
      "image/png": "[encoded data removed]",
      "text/plain": [
       "<Figure size 640x480 with 1 Axes>"
      ]
     },
     "metadata": {},
     "output_type": "display_data"
    }
   ],
   "source": [
    "plt.imshow(x)"
   ]
  },
  {
   "cell_type": "code",
   "execution_count": 9,
   "metadata": {},
   "outputs": [
    {
     "name": "stdout",
     "output_type": "stream",
     "text": [
      "Value: 0.0, Occurrences: 54844\n",
      "Value: 0.023529411764705882, Occurrences: 2400\n",
      "Value: 0.03529411764705882, Occurrences: 2272\n",
      "Value: 0.047058823529411764, Occurrences: 362\n",
      "Value: 0.4823529411764706, Occurrences: 2628\n",
      "Value: 0.49411764705882355, Occurrences: 2337\n",
      "Value: 0.5058823529411764, Occurrences: 345\n",
      "Value: 0.5882352941176471, Occurrences: 4\n",
      "Value: 0.9176470588235294, Occurrences: 188\n",
      "Value: 0.9294117647058824, Occurrences: 146\n",
      "Value: 0.9529411764705882, Occurrences: 10\n"
     ]
    }
   ],
   "source": [
    "# Get unique elements and their counts\n",
    "unique_values, counts = np.unique(x, return_counts=True)\n",
    "\n",
    "# Print occurrences of each value\n",
    "for value, count in zip(unique_values, counts):\n",
    "    print(f\"Value: {value}, Occurrences: {count}\")"
   ]
  },
  {
   "cell_type": "code",
   "execution_count": 16,
   "metadata": {},
   "outputs": [],
   "source": [
    "nii_img  = nib.load(f'./OASIS/OAS1_0001_MR1/mri/aseg.nii.gz')\n",
    "img = nii_img.get_fdata()"
   ]
  },
  {
   "cell_type": "code",
   "execution_count": 18,
   "metadata": {},
   "outputs": [
    {
     "name": "stdout",
     "output_type": "stream",
     "text": [
      "Value: 0.0, Occurrences: 15853876\n",
      "Value: 2.0, Occurrences: 152222\n",
      "Value: 3.0, Occurrences: 184844\n",
      "Value: 4.0, Occurrences: 27742\n",
      "Value: 5.0, Occurrences: 1570\n",
      "Value: 7.0, Occurrences: 11943\n",
      "Value: 8.0, Occurrences: 47298\n",
      "Value: 10.0, Occurrences: 5330\n",
      "Value: 11.0, Occurrences: 3625\n",
      "Value: 12.0, Occurrences: 4352\n",
      "Value: 13.0, Occurrences: 1319\n",
      "Value: 14.0, Occurrences: 2822\n",
      "Value: 15.0, Occurrences: 2492\n",
      "Value: 16.0, Occurrences: 17244\n",
      "Value: 17.0, Occurrences: 3528\n",
      "Value: 18.0, Occurrences: 1239\n",
      "Value: 24.0, Occurrences: 1284\n",
      "Value: 26.0, Occurrences: 524\n",
      "Value: 28.0, Occurrences: 3575\n",
      "Value: 30.0, Occurrences: 75\n",
      "Value: 41.0, Occurrences: 152384\n",
      "Value: 42.0, Occurrences: 183414\n",
      "Value: 43.0, Occurrences: 23019\n",
      "Value: 44.0, Occurrences: 1428\n",
      "Value: 46.0, Occurrences: 11475\n",
      "Value: 47.0, Occurrences: 47713\n",
      "Value: 49.0, Occurrences: 5539\n",
      "Value: 50.0, Occurrences: 3471\n",
      "Value: 51.0, Occurrences: 4122\n",
      "Value: 52.0, Occurrences: 1111\n",
      "Value: 53.0, Occurrences: 3919\n",
      "Value: 54.0, Occurrences: 1334\n",
      "Value: 58.0, Occurrences: 454\n",
      "Value: 60.0, Occurrences: 3478\n",
      "Value: 62.0, Occurrences: 143\n",
      "Value: 72.0, Occurrences: 82\n",
      "Value: 78.0, Occurrences: 3971\n",
      "Value: 79.0, Occurrences: 2933\n",
      "Value: 81.0, Occurrences: 113\n",
      "Value: 82.0, Occurrences: 8\n",
      "Value: 85.0, Occurrences: 201\n"
     ]
    }
   ],
   "source": [
    "# Get unique elements and their counts\n",
    "unique_values, counts = np.unique(img, return_counts=True)\n",
    "\n",
    "# Print occurrences of each value\n",
    "for value, count in zip(unique_values, counts):\n",
    "    print(f\"Value: {value}, Occurrences: {count}\")"
   ]
  },
  {
   "cell_type": "markdown",
   "metadata": {},
   "source": [
    "### Find the reason for value 255 in label"
   ]
  },
  {
   "cell_type": "code",
   "execution_count": 2,
   "metadata": {},
   "outputs": [],
   "source": [
    "import numpy as np\n",
    "import os"
   ]
  },
  {
   "cell_type": "code",
   "execution_count": 5,
   "metadata": {},
   "outputs": [
    {
     "name": "stdout",
     "output_type": "stream",
     "text": [
      "File: OAS1_0021_MR1_slice147.npz, Unique Values: [255.]\n",
      "File: OAS1_0122_MR1_slice153.npz, Unique Values: [29.]\n",
      "File: OAS1_0326_MR1_slice143.npz, Unique Values: [29.]\n",
      "File: OAS1_0453_MR1_slice136.npz, Unique Values: [29.]\n",
      "File: OAS1_0428_MR1_slice153.npz, Unique Values: [29.]\n",
      "File: OAS1_0441_MR1_slice095.npz, Unique Values: [29.]\n",
      "File: OAS1_0390_MR1_slice127.npz, Unique Values: [29.]\n",
      "File: OAS1_0138_MR1_slice135.npz, Unique Values: [29.]\n",
      "File: OAS1_0021_MR1_slice153.npz, Unique Values: [255.]\n",
      "File: OAS1_0400_MR1_slice137.npz, Unique Values: [29.]\n",
      "File: OAS1_0021_MR1_slice149.npz, Unique Values: [255.]\n",
      "File: OAS1_0038_MR1_slice133.npz, Unique Values: [29.]\n",
      "File: OAS1_0197_MR1_slice097.npz, Unique Values: [29.]\n",
      "File: OAS1_0021_MR1_slice148.npz, Unique Values: [255.]\n",
      "File: OAS1_0042_MR1_slice127.npz, Unique Values: [29.]\n",
      "File: OAS1_0062_MR1_slice139.npz, Unique Values: [29.]\n",
      "File: OAS1_0438_MR1_slice104.npz, Unique Values: [29.]\n",
      "File: OAS1_0157_MR1_slice159.npz, Unique Values: [29.]\n"
     ]
    }
   ],
   "source": [
    "# Directory containing npz files\n",
    "directory = \"./Synapse/train_npz\"\n",
    "\n",
    "# Iterate over each file in the directory\n",
    "for filename in os.listdir(directory):\n",
    "    if filename.endswith(\".npz\"):\n",
    "        file_path = os.path.join(directory, filename)\n",
    "        # Load data from npz file\n",
    "        data = np.load(file_path)\n",
    "        unique_values = np.unique(data['label'])\n",
    "        # Check if unique values are [0, 1, 2, 3, 4, 5, 6]\n",
    "        if np.any(unique_values > 6):\n",
    "            print(f\"File: {filename}, Unique Values: {unique_values[unique_values > 6]}\")"
   ]
  },
  {
   "cell_type": "code",
   "execution_count": 7,
   "metadata": {},
   "outputs": [
    {
     "name": "stdout",
     "output_type": "stream",
     "text": [
      "Processed: ./Synapse/train_npz/OAS1_0021_MR1_slice147.npz\n",
      "Processed: ./Synapse/train_npz/OAS1_0122_MR1_slice153.npz\n",
      "Processed: ./Synapse/train_npz/OAS1_0326_MR1_slice143.npz\n",
      "Processed: ./Synapse/train_npz/OAS1_0453_MR1_slice136.npz\n",
      "Processed: ./Synapse/train_npz/OAS1_0428_MR1_slice153.npz\n",
      "Processed: ./Synapse/train_npz/OAS1_0441_MR1_slice095.npz\n",
      "Processed: ./Synapse/train_npz/OAS1_0390_MR1_slice127.npz\n",
      "Processed: ./Synapse/train_npz/OAS1_0138_MR1_slice135.npz\n",
      "Processed: ./Synapse/train_npz/OAS1_0021_MR1_slice153.npz\n",
      "Processed: ./Synapse/train_npz/OAS1_0400_MR1_slice137.npz\n",
      "Processed: ./Synapse/train_npz/OAS1_0021_MR1_slice149.npz\n",
      "Processed: ./Synapse/train_npz/OAS1_0038_MR1_slice133.npz\n",
      "Processed: ./Synapse/train_npz/OAS1_0197_MR1_slice097.npz\n",
      "Processed: ./Synapse/train_npz/OAS1_0021_MR1_slice148.npz\n",
      "Processed: ./Synapse/train_npz/OAS1_0042_MR1_slice127.npz\n",
      "Processed: ./Synapse/train_npz/OAS1_0062_MR1_slice139.npz\n",
      "Processed: ./Synapse/train_npz/OAS1_0438_MR1_slice104.npz\n",
      "Processed: ./Synapse/train_npz/OAS1_0157_MR1_slice159.npz\n"
     ]
    }
   ],
   "source": [
    "# left-undetermined to left white matter (29 -> 2)\n",
    "# Corpus callosum part to Deep Gray Matter (255 -> 4)\n",
    "file_names = ['OAS1_0021_MR1_slice147.npz', 'OAS1_0122_MR1_slice153.npz', 'OAS1_0326_MR1_slice143.npz', 'OAS1_0453_MR1_slice136.npz', 'OAS1_0428_MR1_slice153.npz', 'OAS1_0441_MR1_slice095.npz', 'OAS1_0390_MR1_slice127.npz', 'OAS1_0138_MR1_slice135.npz', \n",
    "              'OAS1_0021_MR1_slice153.npz', 'OAS1_0400_MR1_slice137.npz', 'OAS1_0021_MR1_slice149.npz', 'OAS1_0038_MR1_slice133.npz', 'OAS1_0197_MR1_slice097.npz', 'OAS1_0021_MR1_slice148.npz', 'OAS1_0042_MR1_slice127.npz', 'OAS1_0062_MR1_slice139.npz',\n",
    "              'OAS1_0438_MR1_slice104.npz', 'OAS1_0157_MR1_slice159.npz']\n",
    "\n",
    "for filename in file_names:\n",
    "        file_path = os.path.join(directory, filename)\n",
    "        if os.path.isfile(file_path) and file_path.endswith(\".npz\"):\n",
    "            # Load data from npz file\n",
    "            image = np.load(file_path)['image']\n",
    "            label = np.load(file_path)['label']\n",
    "            # Replace values\n",
    "            label[label == 29] = 2\n",
    "            label[label == 255] = 4\n",
    "            # Overwrite the file\n",
    "            np.savez_compressed(file_path, image=image, label=label)\n",
    "            print(f\"Processed: {file_path}\")\n"
   ]
  },
  {
   "cell_type": "code",
   "execution_count": null,
   "metadata": {},
   "outputs": [],
   "source": []
  }
 ],
 "metadata": {
  "kernelspec": {
   "display_name": "Python 3",
   "language": "python",
   "name": "python3"
  },
  "language_info": {
   "codemirror_mode": {
    "name": "ipython",
    "version": 3
   },
   "file_extension": ".py",
   "mimetype": "text/x-python",
   "name": "python",
   "nbconvert_exporter": "python",
   "pygments_lexer": "ipython3",
   "version": "3.8.18"
  }
 },
 "nbformat": 4,
 "nbformat_minor": 2
}
